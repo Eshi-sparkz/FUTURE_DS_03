{
 "cells": [
  {
   "cell_type": "code",
   "execution_count": 1,
   "id": "e4b2bd1c",
   "metadata": {},
   "outputs": [
    {
     "name": "stdout",
     "output_type": "stream",
     "text": [
      "Requirement already satisfied: folium in c:\\users\\dell\\documents\\esi\\lib\\site-packages (0.19.5)\n",
      "Requirement already satisfied: pandas in c:\\users\\dell\\documents\\esi\\lib\\site-packages (1.4.4)\n",
      "Requirement already satisfied: openpyxl in c:\\users\\dell\\documents\\esi\\lib\\site-packages (3.0.10)\n",
      "Requirement already satisfied: branca>=0.6.0 in c:\\users\\dell\\documents\\esi\\lib\\site-packages (from folium) (0.8.1)\n",
      "Requirement already satisfied: jinja2>=2.9 in c:\\users\\dell\\documents\\esi\\lib\\site-packages (from folium) (3.1.5)\n",
      "Requirement already satisfied: numpy in c:\\users\\dell\\documents\\esi\\lib\\site-packages (from folium) (1.21.5)\n",
      "Requirement already satisfied: requests in c:\\users\\dell\\documents\\esi\\lib\\site-packages (from folium) (2.28.1)\n",
      "Requirement already satisfied: xyzservices in c:\\users\\dell\\documents\\esi\\lib\\site-packages (from folium) (2025.1.0)\n",
      "Requirement already satisfied: python-dateutil>=2.8.1 in c:\\users\\dell\\documents\\esi\\lib\\site-packages (from pandas) (2.8.2)\n",
      "Requirement already satisfied: pytz>=2020.1 in c:\\users\\dell\\documents\\esi\\lib\\site-packages (from pandas) (2022.1)\n",
      "Requirement already satisfied: et_xmlfile in c:\\users\\dell\\documents\\esi\\lib\\site-packages (from openpyxl) (1.1.0)\n",
      "Requirement already satisfied: MarkupSafe>=2.0 in c:\\users\\dell\\documents\\esi\\lib\\site-packages (from jinja2>=2.9->folium) (2.0.1)\n",
      "Requirement already satisfied: six>=1.5 in c:\\users\\dell\\documents\\esi\\lib\\site-packages (from python-dateutil>=2.8.1->pandas) (1.16.0)\n",
      "Requirement already satisfied: charset-normalizer<3,>=2 in c:\\users\\dell\\documents\\esi\\lib\\site-packages (from requests->folium) (2.0.4)\n",
      "Requirement already satisfied: idna<4,>=2.5 in c:\\users\\dell\\documents\\esi\\lib\\site-packages (from requests->folium) (3.3)\n",
      "Requirement already satisfied: urllib3<1.27,>=1.21.1 in c:\\users\\dell\\documents\\esi\\lib\\site-packages (from requests->folium) (1.26.11)\n",
      "Requirement already satisfied: certifi>=2017.4.17 in c:\\users\\dell\\documents\\esi\\lib\\site-packages (from requests->folium) (2022.9.14)\n",
      "Note: you may need to restart the kernel to use updated packages.\n"
     ]
    },
    {
     "name": "stderr",
     "output_type": "stream",
     "text": [
      "WARNING: Ignoring invalid distribution -ip (c:\\users\\dell\\documents\\esi\\lib\\site-packages)\n",
      "WARNING: Ignoring invalid distribution -yping-extensions (c:\\users\\dell\\documents\\esi\\lib\\site-packages)\n",
      "WARNING: Ignoring invalid distribution -ip (c:\\users\\dell\\documents\\esi\\lib\\site-packages)\n",
      "WARNING: Ignoring invalid distribution -yping-extensions (c:\\users\\dell\\documents\\esi\\lib\\site-packages)\n"
     ]
    }
   ],
   "source": [
    "pip install folium pandas openpyxl "
   ]
  },
  {
   "cell_type": "markdown",
   "id": "31405b16",
   "metadata": {},
   "source": [
    "## Identifying accident zones using heatmap"
   ]
  },
  {
   "cell_type": "code",
   "execution_count": 2,
   "id": "57ff2445",
   "metadata": {},
   "outputs": [
    {
     "name": "stdout",
     "output_type": "stream",
     "text": [
      "Heatmap saved as 'accident_hotspots_map.html'\n"
     ]
    }
   ],
   "source": [
    "import pandas as pd\n",
    "import folium\n",
    "from folium.plugins import HeatMap\n",
    "\n",
    "# Load your dataset\n",
    "file_path = \"Road Accident Data.xlsx\"\n",
    "df = pd.read_excel(file_path)\n",
    "\n",
    "# Drop rows with missing coordinates\n",
    "df = df.dropna(subset=['Latitude', 'Longitude'])\n",
    "\n",
    "# Sample for performance (optional)\n",
    "df_sample = df.sample(n=5000, random_state=42)\n",
    "\n",
    "# Create base map centered on average location\n",
    "map_center = [df_sample['Latitude'].mean(), df_sample['Longitude'].mean()]\n",
    "accident_map = folium.Map(location=map_center, zoom_start=12)\n",
    "\n",
    "# Prepare data for heatmap: list of [lat, lon]\n",
    "heat_data = df_sample[['Latitude', 'Longitude']].values.tolist()\n",
    "\n",
    "# Add HeatMap layer\n",
    "HeatMap(heat_data, radius=10).add_to(accident_map)\n",
    "\n",
    "# Save map to HTML file\n",
    "accident_map.save(\"accident_hotspots_map.html\")\n",
    "print(\"Heatmap saved as 'accident_hotspots_map.html'\")\n"
   ]
  },
  {
   "cell_type": "markdown",
   "id": "92e787f8",
   "metadata": {},
   "source": [
    "## Identifying accident severity in areas using the longitude and latitude"
   ]
  },
  {
   "cell_type": "code",
   "execution_count": 3,
   "id": "2eae7641",
   "metadata": {},
   "outputs": [
    {
     "name": "stdout",
     "output_type": "stream",
     "text": [
      "Map with severity markers saved as 'accident_severity_map.html'\n"
     ]
    }
   ],
   "source": [
    "import pandas as pd\n",
    "import folium\n",
    "\n",
    "# Load data\n",
    "file_path = \"Road Accident Data.xlsx\"\n",
    "df = pd.read_excel(file_path)\n",
    "\n",
    "# Filter for valid coordinates\n",
    "df = df.dropna(subset=['Latitude', 'Longitude', 'Accident_Severity'])\n",
    "\n",
    "# Sample for faster rendering\n",
    "df_sample = df.sample(n=1000, random_state=42)\n",
    "\n",
    "# Base map\n",
    "map_center = [df_sample['Latitude'].mean(), df_sample['Longitude'].mean()]\n",
    "severity_map = folium.Map(location=map_center, zoom_start=12)\n",
    "\n",
    "# Define color mapping\n",
    "severity_colors = {\n",
    "    'Fatal': 'red',\n",
    "    'Serious': 'orange',\n",
    "    'Slight': 'green'\n",
    "}\n",
    "\n",
    "# Add markers with color-coded severity\n",
    "for _, row in df_sample.iterrows():\n",
    "    severity = row['Accident_Severity']\n",
    "    color = severity_colors.get(severity, 'blue')\n",
    "    \n",
    "    folium.CircleMarker(\n",
    "        location=[row['Latitude'], row['Longitude']],\n",
    "        radius=5,\n",
    "        color=color,\n",
    "        fill=True,\n",
    "        fill_opacity=0.7,\n",
    "        popup=f\"Severity: {severity}\\nTime: {row['Time']}\"\n",
    "    ).add_to(severity_map)\n",
    "\n",
    "# Save map\n",
    "severity_map.save(\"accident_severity_map.html\")\n",
    "print(\"Map with severity markers saved as 'accident_severity_map.html'\")\n"
   ]
  },
  {
   "cell_type": "code",
   "execution_count": null,
   "id": "48decf0d",
   "metadata": {},
   "outputs": [],
   "source": []
  }
 ],
 "metadata": {
  "kernelspec": {
   "display_name": "Python 3 (ipykernel)",
   "language": "python",
   "name": "python3"
  },
  "language_info": {
   "codemirror_mode": {
    "name": "ipython",
    "version": 3
   },
   "file_extension": ".py",
   "mimetype": "text/x-python",
   "name": "python",
   "nbconvert_exporter": "python",
   "pygments_lexer": "ipython3",
   "version": "3.9.13"
  }
 },
 "nbformat": 4,
 "nbformat_minor": 5
}
